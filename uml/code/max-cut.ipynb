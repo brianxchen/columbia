{
 "cells": [
  {
   "cell_type": "code",
   "execution_count": 14,
   "metadata": {},
   "outputs": [
    {
     "name": "stdout",
     "output_type": "stream",
     "text": [
      "(a) Optimal cut value: 8.000000008862301\n",
      "(b) Optimal X for the SDP:\n",
      "[[ 1.         -0.14285714 -0.14285714 -0.14285714 -0.14285714 -0.14285714\n",
      "  -0.14285714 -0.14285714]\n",
      " [-0.14285714  1.         -0.14285714 -0.14285714 -0.14285714 -0.14285714\n",
      "  -0.14285714 -0.14285714]\n",
      " [-0.14285714 -0.14285714  1.         -0.14285714 -0.14285714 -0.14285714\n",
      "  -0.14285714 -0.14285714]\n",
      " [-0.14285714 -0.14285714 -0.14285714  1.         -0.14285714 -0.14285714\n",
      "  -0.14285714 -0.14285714]\n",
      " [-0.14285714 -0.14285714 -0.14285714 -0.14285714  1.         -0.14285714\n",
      "  -0.14285714 -0.14285714]\n",
      " [-0.14285714 -0.14285714 -0.14285714 -0.14285714 -0.14285714  1.\n",
      "  -0.14285714 -0.14285714]\n",
      " [-0.14285714 -0.14285714 -0.14285714 -0.14285714 -0.14285714 -0.14285714\n",
      "   1.         -0.14285714]\n",
      " [-0.14285714 -0.14285714 -0.14285714 -0.14285714 -0.14285714 -0.14285714\n",
      "  -0.14285714  1.        ]]\n",
      "(c) Expected size of the cut created: 14.2341\n"
     ]
    }
   ],
   "source": [
    "import cvxpy as cp\n",
    "import numpy as np\n",
    "\n",
    "n = 8\n",
    "W = np.ones((n, n)) - np.eye(n)\n",
    "\n",
    "X = cp.Variable((n, n), symmetric=True)\n",
    "\n",
    "constraints = [X >> 0,  cp.diag(X) == 1]\n",
    "objective = cp.Maximize(cp.trace(-W @ X))\n",
    "\n",
    "problem = cp.Problem(objective, constraints)\n",
    "problem.solve()\n",
    "\n",
    "optimal_value = problem.value\n",
    "optimal_X = X.value \n",
    "\n",
    "num_trials = 10000\n",
    "cut_sizes = []\n",
    "\n",
    "def random_unit_vector(n):\n",
    "    vec = np.random.normal(size=n)\n",
    "    unit_vec = vec / np.linalg.norm(vec)\n",
    "    return unit_vec\n",
    "\n",
    "for _ in range(num_trials):\n",
    "    U, Sigma, Vt = np.linalg.svd(optimal_X)\n",
    "    V = np.sqrt(np.diag(Sigma)) @ Vt.T\n",
    "    h = random_unit_vector(n)\n",
    "    partition_signs = np.sign(V.T @ h)\n",
    "\n",
    "    cut_size = 0\n",
    "    for i in range(n):\n",
    "        for j in range(i + 1, n):\n",
    "            if partition_signs[i] != partition_signs[j]:\n",
    "                cut_size += W[i, j]\n",
    "\n",
    "    cut_sizes.append(cut_size)\n",
    "\n",
    "expected_cut_size = np.mean(cut_sizes)\n",
    "\n",
    "print(f\"(a) Optimal cut value: {optimal_value}\")\n",
    "print(f\"(b) Optimal X for the SDP:\\n{optimal_X}\")\n",
    "print(f\"(c) Expected size of the cut created: {expected_cut_size}\")\n"
   ]
  },
  {
   "cell_type": "code",
   "execution_count": null,
   "metadata": {},
   "outputs": [],
   "source": []
  }
 ],
 "metadata": {
  "kernelspec": {
   "display_name": "Python 3",
   "language": "python",
   "name": "python3"
  },
  "language_info": {
   "codemirror_mode": {
    "name": "ipython",
    "version": 3
   },
   "file_extension": ".py",
   "mimetype": "text/x-python",
   "name": "python",
   "nbconvert_exporter": "python",
   "pygments_lexer": "ipython3",
   "version": "3.9.7"
  }
 },
 "nbformat": 4,
 "nbformat_minor": 2
}
