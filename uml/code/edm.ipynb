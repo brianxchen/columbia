{
 "cells": [
  {
   "cell_type": "code",
   "execution_count": 131,
   "metadata": {},
   "outputs": [
    {
     "name": "stdout",
     "output_type": "stream",
     "text": [
      "Returing best location: None\n",
      "Corruption test took 0.02 seconds\n",
      "Corrupted triplets (naive): [(0, 1)]\n",
      "Time taken (naive): 3.951404094696045\n"
     ]
    }
   ],
   "source": [
    "import numpy as np\n",
    "import time\n",
    "\n",
    "def generate_distance_matrix(n):\n",
    "    \"\"\"\n",
    "    Generates n random points in R^3 and computes their distance matrix.\n",
    "\n",
    "    Parameters:\n",
    "        n (int): Number of points.\n",
    "\n",
    "    Returns:\n",
    "        numpy.ndarray: An n x n distance matrix.\n",
    "    \"\"\"\n",
    "    # Generate n random points in R^3\n",
    "    points = np.random.rand(n, 3)\n",
    "\n",
    "    # Compute the distance matrix\n",
    "    distance_matrix = np.sqrt(\n",
    "        np.sum((points[:, np.newaxis, :] - points[np.newaxis, :, :])**2, axis=2)\n",
    "    )\n",
    "    return points, distance_matrix\n",
    "# Example Usage\n",
    "if __name__ == \"__main__\":\n",
    "    n = 250\n",
    "    points, D = generate_distance_matrix(n)\n",
    "    D[0, 1] = 1000  # Corrupt the distance between the first two points\n",
    "    D[1, 0] = 1000\n",
    "\n",
    "    corruptions = find_corruptions(D)\n",
    "    corruptions = find_corruptions_naive(D)"
   ]
  },
  {
   "cell_type": "code",
   "execution_count": 58,
   "metadata": {},
   "outputs": [],
   "source": [
    "import numpy as np\n",
    "\n",
    "def find_corruptions(D, max_deviation=1.0):\n",
    "    start_time = time.time()\n",
    "    n = len(D)\n",
    "    max_diff = 0\n",
    "    best_location = None\n",
    "    \n",
    "    for i in range(n):\n",
    "        for j in range(i+1, n):\n",
    "            diff = abs(D[i,j] - D[j,i])\n",
    "            \n",
    "            if diff > max_deviation and diff > max_diff:\n",
    "                max_diff = diff\n",
    "                best_location = (i, j)\n",
    "    print(f\"Returing best location: {best_location}\")\n",
    "    print(f\"Corruption test took {time.time() - start_time:.2f} seconds\")\n",
    "\n",
    "    return best_location, max_diff"
   ]
  },
  {
   "cell_type": "code",
   "execution_count": 40,
   "metadata": {},
   "outputs": [],
   "source": [
    "import numpy as np\n",
    "\n",
    "def find_corruptions_naive(distance_matrix):\n",
    "    \"\"\"\n",
    "    Naive method to find corruptions in a distance matrix by checking the triangle inequality.\n",
    "\n",
    "    Parameters:\n",
    "        distance_matrix (numpy.ndarray): An n x n symmetric distance matrix.\n",
    "\n",
    "    Returns:\n",
    "        list: A list of tuples (i, j) where the distance matrix violates the triangle inequality.\n",
    "    \"\"\"\n",
    "    start_time = time.time()\n",
    "    n = distance_matrix.shape[0]\n",
    "    corruptions = []\n",
    "\n",
    "    # Check all triplets (i, j, k) for violation of the triangle inequality\n",
    "    for i in range(n):\n",
    "        for j in range(i + 1, n):  # Only need to check upper triangle\n",
    "            for k in range(n):\n",
    "                if k != i and k != j:  # Don't check the pair (i, j) itself\n",
    "                    if distance_matrix[i, j] > distance_matrix[i, k] + distance_matrix[k, j]:\n",
    "                        corruptions.append((i, j))\n",
    "                        break  # If we find a corruption, no need to check further for this pair\n",
    "\n",
    "    print(f\"Corrupted triplets (naive): {corruptions}\")\n",
    "    print(f\"Time taken (naive): {time.time() - start_time}\")\n",
    "    return corruptions\n"
   ]
  },
  {
   "cell_type": "code",
   "execution_count": 132,
   "metadata": {},
   "outputs": [],
   "source": [
    "def get_L(n):\n",
    "    s = np.zeros(n, dtype=int)\n",
    "    s[0] = 1\n",
    "    e = np.ones(n, dtype=int)\n",
    "    outer_product = s[:, None] @ e[None, :]  # s[:, None] makes s a column vector, e[None, :] makes e a row vector\n",
    "    \n",
    "    L = np.eye(n) - outer_product\n",
    "    return L\n",
    "\n",
    "def check_valid_dist(D):\n",
    "    \"\"\"\n",
    "    Given a distnace matrix D, check if its gram matrix is PSD\n",
    "    F = -L^T D L\n",
    "    \"\"\"\n",
    "    n = len(D)\n",
    "    L = get_L(n)\n",
    "    F = -L.T @ D @ L\n",
    "    return \"valid\" if np.all(np.linalg.eigvals(F) >= 0) else \"invalid\""
   ]
  },
  {
   "cell_type": "code",
   "execution_count": 129,
   "metadata": {},
   "outputs": [
    {
     "data": {
      "text/plain": [
       "'valid'"
      ]
     },
     "execution_count": 129,
     "metadata": {},
     "output_type": "execute_result"
    }
   ],
   "source": [
    "n = 250\n",
    "points, D = generate_distance_matrix(n)\n",
    "corruption = 0.5\n",
    "D[0, 1] = corruption  # Corrupt the distance between the first two points\n",
    "D[1, 0] = corruption\n",
    "check_PSD(D)\n"
   ]
  },
  {
   "cell_type": "code",
   "execution_count": 130,
   "metadata": {},
   "outputs": [
    {
     "name": "stdout",
     "output_type": "stream",
     "text": [
      "tensor([0.0000e+00, 2.7577e-02, 2.8040e-02, 2.8998e-02, 3.1536e-02, 3.3227e-02,\n",
      "        3.4576e-02, 3.5614e-02, 3.5973e-02, 3.6640e-02, 3.6841e-02, 3.7054e-02,\n",
      "        3.7796e-02, 3.7954e-02, 3.9502e-02, 3.9762e-02, 4.0470e-02, 4.1851e-02,\n",
      "        4.2415e-02, 4.2461e-02, 4.2992e-02, 4.4015e-02, 4.4355e-02, 4.4949e-02,\n",
      "        4.5456e-02, 4.5615e-02, 4.5893e-02, 4.7121e-02, 4.7366e-02, 4.7481e-02,\n",
      "        4.7570e-02, 4.7774e-02, 4.8756e-02, 4.8762e-02, 4.8835e-02, 4.9867e-02,\n",
      "        5.0115e-02, 5.0795e-02, 5.0866e-02, 5.1432e-02, 5.1829e-02, 5.2066e-02,\n",
      "        5.2529e-02, 5.3197e-02, 5.3399e-02, 5.3507e-02, 5.4421e-02, 5.4881e-02,\n",
      "        5.5447e-02, 5.5931e-02, 5.6529e-02, 5.6732e-02, 5.6912e-02, 5.7554e-02,\n",
      "        5.8377e-02, 5.9145e-02, 5.9635e-02, 6.0021e-02, 6.0399e-02, 6.0806e-02,\n",
      "        6.1373e-02, 6.2404e-02, 6.2724e-02, 6.3316e-02, 6.3846e-02, 6.3930e-02,\n",
      "        6.5000e-02, 6.5904e-02, 6.6384e-02, 6.6610e-02, 6.6815e-02, 6.7263e-02,\n",
      "        6.7734e-02, 6.7908e-02, 6.9022e-02, 6.9264e-02, 6.9530e-02, 7.1126e-02,\n",
      "        7.1325e-02, 7.1790e-02, 7.2237e-02, 7.3973e-02, 7.4500e-02, 7.4558e-02,\n",
      "        7.5280e-02, 7.6306e-02, 7.6440e-02, 7.6866e-02, 7.7554e-02, 7.7739e-02,\n",
      "        7.7976e-02, 7.8661e-02, 7.8818e-02, 7.9484e-02, 7.9775e-02, 8.0610e-02,\n",
      "        8.1277e-02, 8.2060e-02, 8.2686e-02, 8.3003e-02, 8.3614e-02, 8.4445e-02,\n",
      "        8.4951e-02, 8.5547e-02, 8.5932e-02, 8.7015e-02, 8.7268e-02, 8.7623e-02,\n",
      "        8.7688e-02, 8.8041e-02, 8.8804e-02, 8.9500e-02, 9.0083e-02, 9.0206e-02,\n",
      "        9.0982e-02, 9.1500e-02, 9.1564e-02, 9.2252e-02, 9.2865e-02, 9.3559e-02,\n",
      "        9.4320e-02, 9.5684e-02, 9.5869e-02, 9.7378e-02, 9.8053e-02, 9.8385e-02,\n",
      "        1.0058e-01, 1.0182e-01, 1.0210e-01, 1.0228e-01, 1.0443e-01, 1.0532e-01,\n",
      "        1.0563e-01, 1.0678e-01, 1.0711e-01, 1.0858e-01, 1.0927e-01, 1.0969e-01,\n",
      "        1.1059e-01, 1.1251e-01, 1.1363e-01, 1.1403e-01, 1.1494e-01, 1.1668e-01,\n",
      "        1.1834e-01, 1.1886e-01, 1.2031e-01, 1.2090e-01, 1.2301e-01, 1.2373e-01,\n",
      "        1.2531e-01, 1.2646e-01, 1.2679e-01, 1.2927e-01, 1.3051e-01, 1.3171e-01,\n",
      "        1.3361e-01, 1.3461e-01, 1.3575e-01, 1.3650e-01, 1.4114e-01, 1.4218e-01,\n",
      "        1.4379e-01, 1.4436e-01, 1.4843e-01, 1.5021e-01, 1.5086e-01, 1.5329e-01,\n",
      "        1.5457e-01, 1.5863e-01, 1.5915e-01, 1.6522e-01, 1.6662e-01, 1.6957e-01,\n",
      "        1.7102e-01, 1.7323e-01, 1.7609e-01, 1.7702e-01, 1.7877e-01, 1.7974e-01,\n",
      "        1.8329e-01, 1.9042e-01, 1.9215e-01, 1.9630e-01, 1.9799e-01, 1.9870e-01,\n",
      "        2.0230e-01, 2.1048e-01, 2.1313e-01, 2.1657e-01, 2.1892e-01, 2.2175e-01,\n",
      "        2.2285e-01, 2.2749e-01, 2.3303e-01, 2.3855e-01, 2.4749e-01, 2.4847e-01,\n",
      "        2.5472e-01, 2.6415e-01, 2.6886e-01, 2.7153e-01, 2.8452e-01, 2.8737e-01,\n",
      "        2.9354e-01, 3.0139e-01, 3.1408e-01, 3.2188e-01, 3.2897e-01, 3.3182e-01,\n",
      "        3.3809e-01, 3.4882e-01, 3.6001e-01, 3.7708e-01, 3.9549e-01, 3.9618e-01,\n",
      "        4.1920e-01, 4.2664e-01, 4.3979e-01, 4.5687e-01, 4.8682e-01, 5.2416e-01,\n",
      "        5.6960e-01, 5.9509e-01, 6.2274e-01, 6.4493e-01, 6.7506e-01, 7.1181e-01,\n",
      "        7.3080e-01, 7.8534e-01, 7.9816e-01, 9.3399e-01, 1.0220e+00, 1.0955e+00,\n",
      "        1.2008e+00, 1.3493e+00, 1.4349e+00, 1.5973e+00, 1.7117e+00, 1.9402e+00,\n",
      "        2.4532e+00, 3.1683e+00, 4.0259e+00, 4.2156e+00, 4.9189e+00, 5.4991e+00,\n",
      "        1.3192e+01, 2.7822e+01, 3.2638e+01, 1.5149e+02], dtype=torch.float64,\n",
      "       grad_fn=<LinalgEighBackward0>)\n",
      "tensor([[0., 0., 0.,  ..., 0., 0., 0.],\n",
      "        [0., 0., 0.,  ..., 0., 0., 0.],\n",
      "        [0., 0., 0.,  ..., 0., 0., 0.],\n",
      "        ...,\n",
      "        [0., 0., 0.,  ..., 0., 0., 0.],\n",
      "        [0., 0., 0.,  ..., 0., 0., 0.],\n",
      "        [0., 0., 0.,  ..., 0., 0., 0.]], dtype=torch.float64)\n",
      "The most problematic entry in D is: 0\n"
     ]
    }
   ],
   "source": [
    "import torch\n",
    "\n",
    "# Define the size of the matrix and the function to get L\n",
    "n = len(D)  # Assuming D is predefined\n",
    "L = torch.tensor(get_L(n), dtype=torch.float64, requires_grad=True)  # Assuming get_L is a function that gives L\n",
    "D = torch.tensor(D, dtype=torch.float64, requires_grad=True)  # D is a predefined matrix\n",
    "\n",
    "# Compute F = -L^T D L\n",
    "F = -L.T @ D @ L\n",
    "\n",
    "# Compute the smallest eigenvalue\n",
    "eigenvalues = torch.linalg.eigvalsh(F)  # Returns eigenvalues in sorted order (ascending)\n",
    "lambda_min = eigenvalues.min()  # Take the smallest eigenvalue\n",
    "print(eigenvalues)\n",
    "# Compute gradients with respect to D\n",
    "lambda_min.backward()  # Backpropagate to compute gradients w.r.t. D\n",
    "\n",
    "# Get the gradients\n",
    "gradients = D.grad\n",
    "\n",
    "# Output the gradients (gradient with respect to each entry in D)\n",
    "print(gradients)\n",
    "\n",
    "# Identify the most problematic entry (the one with the highest absolute gradient)\n",
    "problematic_entry = torch.argmax(torch.abs(gradients))\n",
    "\n",
    "# Print the most problematic entry\n",
    "print(f\"The most problematic entry in D is: {problematic_entry}\")\n"
   ]
  },
  {
   "cell_type": "code",
   "execution_count": null,
   "metadata": {},
   "outputs": [],
   "source": []
  }
 ],
 "metadata": {
  "kernelspec": {
   "display_name": "Python 3",
   "language": "python",
   "name": "python3"
  },
  "language_info": {
   "codemirror_mode": {
    "name": "ipython",
    "version": 3
   },
   "file_extension": ".py",
   "mimetype": "text/x-python",
   "name": "python",
   "nbconvert_exporter": "python",
   "pygments_lexer": "ipython3",
   "version": "3.9.7"
  }
 },
 "nbformat": 4,
 "nbformat_minor": 2
}
